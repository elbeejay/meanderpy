{
 "cells": [
  {
   "cell_type": "code",
   "execution_count": 174,
   "metadata": {},
   "outputs": [],
   "source": [
    "import meanderpy as mp\n",
    "import matplotlib.pyplot as plt\n",
    "import numpy as np\n",
    "%matplotlib qt"
   ]
  },
  {
   "cell_type": "markdown",
   "metadata": {},
   "source": [
    "## Input parameters"
   ]
  },
  {
   "cell_type": "code",
   "execution_count": 175,
   "metadata": {},
   "outputs": [],
   "source": [
    "W = 20.0                    # channel width (m)\n",
    "D = 3.0                     # channel depth (m)\n",
    "pad = 100                    # padding (number of nodepoints along centerline)\n",
    "deltas = 50.0                # sampling distance along centerline\n",
    "nit = 2000                   # number of iterations\n",
    "Cf = 0.022                    # dimensionless Chezy friction factor\n",
    "crdist = 1.5*W               # threshold distance at which cutoffs occur\n",
    "kl = 60.0/(365*24*60*60.0)   # migration rate constant (m/s)\n",
    "kv =  1.0E-11               # vertical slope-dependent erosion rate constant (m/s)\n",
    "dt = 2*0.05*365*24*60*60.0     # time step (s)\n",
    "dens = 1000                  # density of water (kg/m3)\n",
    "saved_ts = 20                # which time steps will be saved\n",
    "n_bends = 30                 # approximate number of bends you want to model\n",
    "Sl = 0.0                     # initial slope (matters more for submarine channels than rivers)\n",
    "t1 = 500                    # time step when incision starts\n",
    "t2 = 700                    # time step when lateral migration starts\n",
    "t3 = 1400                    # time step when aggradation starts\n",
    "aggr_factor = 4e-9           # aggradation factor (m/s, about 0.18 m/year, it kicks in after t3)"
   ]
  },
  {
   "cell_type": "markdown",
   "metadata": {},
   "source": [
    "## Initialize model"
   ]
  },
  {
   "cell_type": "code",
   "execution_count": 179,
   "metadata": {},
   "outputs": [],
   "source": [
    "from imp import reload\n",
    "reload(mp)\n",
    "ch = mp.generate_initial_channel(W,D,Sl,deltas,pad,n_bends) # initialize channel\n",
    "chb = mp.ChannelBelt(channels=[ch],cutoffs=[],cl_times=[0.0],cutoff_times=[]) # create channel belt object\n",
    "diapir = mp.generate_diapir(radius=500, xmin=0, xmax=3000, ymin=-1000, ymax=1000) # create diapir"
   ]
  },
  {
   "cell_type": "code",
   "execution_count": 180,
   "metadata": {},
   "outputs": [
    {
     "name": "stdout",
     "output_type": "stream",
     "text": [
      "diapir center pt: (1476, 785)\n",
      "diapir radius: 500\n"
     ]
    }
   ],
   "source": [
    "print('diapir center pt: ' + str(diapir[1]))\n",
    "print('diapir radius: ' + str(diapir[0]))"
   ]
  },
  {
   "cell_type": "markdown",
   "metadata": {},
   "source": [
    "## Run simulation"
   ]
  },
  {
   "cell_type": "code",
   "execution_count": 181,
   "metadata": {},
   "outputs": [
    {
     "name": "stdout",
     "output_type": "stream",
     "text": [
      "Percent: [####################] 99.95% 0000000001%   "
     ]
    }
   ],
   "source": [
    "chb.migrate(nit,saved_ts,deltas,pad,crdist,Cf,kl,kv,dt,dens,t1,t2,t3,aggr_factor,diapir) # channel migration\n",
    "fig = chb.plot('morph',20,60,end_time=500, n_channels=100) # plotting"
   ]
  },
  {
   "cell_type": "markdown",
   "metadata": {},
   "source": [
    "## Build 3D fluvial model"
   ]
  },
  {
   "cell_type": "code",
   "execution_count": 7,
   "metadata": {},
   "outputs": [
    {
     "name": "stdout",
     "output_type": "stream",
     "text": [
      "Percent: [####################] 98.76543209876543%  "
     ]
    }
   ],
   "source": [
    "h_mud = 0.4 # thickness of overbank deposit for each time step\n",
    "dx = 10.0 # gridcell size in meters\n",
    "\n",
    "chb_3d, xmin, xmax, ymin, ymax = chb.build_3d_model('fluvial',h_mud=h_mud,levee_width=4000.0,h=12.0,w=W,bth=0.0,\n",
    "                            dcr=10.0,dx=dx,delta_s=deltas,starttime=chb.cl_times[20],endtime=chb.cl_times[-1],\n",
    "                            xmin=0,xmax=0,ymin=0,ymax=0)"
   ]
  },
  {
   "cell_type": "code",
   "execution_count": 8,
   "metadata": {},
   "outputs": [],
   "source": [
    "# create plots\n",
    "fig1,fig2,fig3 = chb_3d.plot_xsection(200, [[0.5,0.25,0],[0.9,0.9,0],[0.5,0.25,0]], 4)"
   ]
  },
  {
   "cell_type": "markdown",
   "metadata": {},
   "source": [
    "## Build 3D submarine channel model"
   ]
  },
  {
   "cell_type": "code",
   "execution_count": 9,
   "metadata": {},
   "outputs": [],
   "source": [
    "W = 200.0                    # channel width (m)\n",
    "D = 12.0                     # channel depth (m)\n",
    "pad = 50                    # padding (number of nodepoints along centerline)\n",
    "deltas = 100.0                # sampling distance along centerline\n",
    "nit = 1500                   # number of iterations\n",
    "Cf = 0.02                    # dimensionless Chezy friction factor\n",
    "crdist = 1.5*W               # threshold distance at which cutoffs occur\n",
    "kl = 60.0/(365*24*60*60.0)   # migration rate constant (m/s)\n",
    "kv =  1.0E-11               # vertical slope-dependent erosion rate constant (m/s)\n",
    "dt = 2*0.05*365*24*60*60.0     # time step (s)\n",
    "dens = 1000                  # density of water (kg/m3)\n",
    "saved_ts = 20                # which time steps will be saved\n",
    "n_bends = 50                 # approximate number of bends you want to model\n",
    "Sl = 0.01                     # initial slope (matters more for submarine channels than rivers)\n",
    "t1 = 500                    # time step when incision starts\n",
    "t2 = 700                    # time step when lateral migration starts\n",
    "t3 = 1000                    # time step when aggradation starts\n",
    "aggr_factor = 4.0          # aggradation factor (it kicks in after t3)"
   ]
  },
  {
   "cell_type": "code",
   "execution_count": 10,
   "metadata": {},
   "outputs": [],
   "source": [
    "reload(mp)\n",
    "ch = mp.generate_initial_channel(W,D,Sl,deltas,pad,n_bends) # initialize channel\n",
    "chb = mp.ChannelBelt(channels=[ch],cutoffs=[],cl_times=[0.0],cutoff_times=[]) # create channel belt object"
   ]
  },
  {
   "cell_type": "code",
   "execution_count": 11,
   "metadata": {},
   "outputs": [
    {
     "name": "stdout",
     "output_type": "stream",
     "text": [
      "Percent: [####################] 99.93333333333332%   "
     ]
    }
   ],
   "source": [
    "chb.migrate(nit,saved_ts,deltas,pad,crdist,Cf,kl,kv,dt,dens,t1,t2,t3,aggr_factor) # channel migration\n",
    "fig = chb.plot('strat',20,60) # plotting"
   ]
  },
  {
   "cell_type": "code",
   "execution_count": 12,
   "metadata": {},
   "outputs": [
    {
     "name": "stdout",
     "output_type": "stream",
     "text": [
      "Percent: [####################] 98.21428571428571%  "
     ]
    }
   ],
   "source": [
    "h_mud = 3.0*np.ones((len(chb.cl_times[20:]),))\n",
    "dx = 15.0\n",
    "\n",
    "chb_3d, xmin, xmax, ymin, ymax = chb.build_3d_model('submarine',h_mud=h_mud,levee_width=5000.0,h=12.0,w=W,bth=6.0,\n",
    "                            dcr=7.0,dx=dx,delta_s=deltas,starttime=chb.cl_times[20],endtime=chb.cl_times[-1],\n",
    "                            xmin=0,xmax=0,ymin=0,ymax=0)\n"
   ]
  },
  {
   "cell_type": "code",
   "execution_count": 15,
   "metadata": {},
   "outputs": [],
   "source": [
    "fig1,fig2,fig3 = chb_3d.plot_xsection(100, [[0.5,0.25,0],[0.9,0.9,0],[0.5,0.25,0]], 10)"
   ]
  }
 ],
 "metadata": {
  "kernelspec": {
   "display_name": "Python [conda env:meanderpy]",
   "language": "python",
   "name": "conda-env-meanderpy-py"
  },
  "language_info": {
   "codemirror_mode": {
    "name": "ipython",
    "version": 3
   },
   "file_extension": ".py",
   "mimetype": "text/x-python",
   "name": "python",
   "nbconvert_exporter": "python",
   "pygments_lexer": "ipython3",
   "version": "3.8.5"
  }
 },
 "nbformat": 4,
 "nbformat_minor": 4
}
